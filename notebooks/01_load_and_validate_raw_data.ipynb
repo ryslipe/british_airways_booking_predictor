{
 "cells": [
  {
   "cell_type": "markdown",
   "metadata": {},
   "source": [
    "## Customer Booking"
   ]
  },
  {
   "cell_type": "code",
   "execution_count": 2,
   "metadata": {},
   "outputs": [],
   "source": [
    "import pandas as pd\n",
    "import numpy as np\n",
    "import plotly.express as px"
   ]
  },
  {
   "cell_type": "code",
   "execution_count": 3,
   "metadata": {},
   "outputs": [
    {
     "data": {
      "text/html": [
       "<div>\n",
       "<style scoped>\n",
       "    .dataframe tbody tr th:only-of-type {\n",
       "        vertical-align: middle;\n",
       "    }\n",
       "\n",
       "    .dataframe tbody tr th {\n",
       "        vertical-align: top;\n",
       "    }\n",
       "\n",
       "    .dataframe thead th {\n",
       "        text-align: right;\n",
       "    }\n",
       "</style>\n",
       "<table border=\"1\" class=\"dataframe\">\n",
       "  <thead>\n",
       "    <tr style=\"text-align: right;\">\n",
       "      <th></th>\n",
       "      <th>num_passengers</th>\n",
       "      <th>sales_channel</th>\n",
       "      <th>trip_type</th>\n",
       "      <th>purchase_lead</th>\n",
       "      <th>length_of_stay</th>\n",
       "      <th>flight_hour</th>\n",
       "      <th>flight_day</th>\n",
       "      <th>route</th>\n",
       "      <th>booking_origin</th>\n",
       "      <th>wants_extra_baggage</th>\n",
       "      <th>wants_preferred_seat</th>\n",
       "      <th>wants_in_flight_meals</th>\n",
       "      <th>flight_duration</th>\n",
       "      <th>booking_complete</th>\n",
       "    </tr>\n",
       "  </thead>\n",
       "  <tbody>\n",
       "    <tr>\n",
       "      <th>0</th>\n",
       "      <td>2</td>\n",
       "      <td>Internet</td>\n",
       "      <td>RoundTrip</td>\n",
       "      <td>262</td>\n",
       "      <td>19</td>\n",
       "      <td>7</td>\n",
       "      <td>Sat</td>\n",
       "      <td>AKLDEL</td>\n",
       "      <td>New Zealand</td>\n",
       "      <td>1</td>\n",
       "      <td>0</td>\n",
       "      <td>0</td>\n",
       "      <td>5.52</td>\n",
       "      <td>0</td>\n",
       "    </tr>\n",
       "    <tr>\n",
       "      <th>1</th>\n",
       "      <td>1</td>\n",
       "      <td>Internet</td>\n",
       "      <td>RoundTrip</td>\n",
       "      <td>112</td>\n",
       "      <td>20</td>\n",
       "      <td>3</td>\n",
       "      <td>Sat</td>\n",
       "      <td>AKLDEL</td>\n",
       "      <td>New Zealand</td>\n",
       "      <td>0</td>\n",
       "      <td>0</td>\n",
       "      <td>0</td>\n",
       "      <td>5.52</td>\n",
       "      <td>0</td>\n",
       "    </tr>\n",
       "    <tr>\n",
       "      <th>2</th>\n",
       "      <td>2</td>\n",
       "      <td>Internet</td>\n",
       "      <td>RoundTrip</td>\n",
       "      <td>243</td>\n",
       "      <td>22</td>\n",
       "      <td>17</td>\n",
       "      <td>Wed</td>\n",
       "      <td>AKLDEL</td>\n",
       "      <td>India</td>\n",
       "      <td>1</td>\n",
       "      <td>1</td>\n",
       "      <td>0</td>\n",
       "      <td>5.52</td>\n",
       "      <td>0</td>\n",
       "    </tr>\n",
       "    <tr>\n",
       "      <th>3</th>\n",
       "      <td>1</td>\n",
       "      <td>Internet</td>\n",
       "      <td>RoundTrip</td>\n",
       "      <td>96</td>\n",
       "      <td>31</td>\n",
       "      <td>4</td>\n",
       "      <td>Sat</td>\n",
       "      <td>AKLDEL</td>\n",
       "      <td>New Zealand</td>\n",
       "      <td>0</td>\n",
       "      <td>0</td>\n",
       "      <td>1</td>\n",
       "      <td>5.52</td>\n",
       "      <td>0</td>\n",
       "    </tr>\n",
       "    <tr>\n",
       "      <th>4</th>\n",
       "      <td>2</td>\n",
       "      <td>Internet</td>\n",
       "      <td>RoundTrip</td>\n",
       "      <td>68</td>\n",
       "      <td>22</td>\n",
       "      <td>15</td>\n",
       "      <td>Wed</td>\n",
       "      <td>AKLDEL</td>\n",
       "      <td>India</td>\n",
       "      <td>1</td>\n",
       "      <td>0</td>\n",
       "      <td>1</td>\n",
       "      <td>5.52</td>\n",
       "      <td>0</td>\n",
       "    </tr>\n",
       "  </tbody>\n",
       "</table>\n",
       "</div>"
      ],
      "text/plain": [
       "   num_passengers sales_channel  trip_type  purchase_lead  length_of_stay  \\\n",
       "0               2      Internet  RoundTrip            262              19   \n",
       "1               1      Internet  RoundTrip            112              20   \n",
       "2               2      Internet  RoundTrip            243              22   \n",
       "3               1      Internet  RoundTrip             96              31   \n",
       "4               2      Internet  RoundTrip             68              22   \n",
       "\n",
       "   flight_hour flight_day   route booking_origin  wants_extra_baggage  \\\n",
       "0            7        Sat  AKLDEL    New Zealand                    1   \n",
       "1            3        Sat  AKLDEL    New Zealand                    0   \n",
       "2           17        Wed  AKLDEL          India                    1   \n",
       "3            4        Sat  AKLDEL    New Zealand                    0   \n",
       "4           15        Wed  AKLDEL          India                    1   \n",
       "\n",
       "   wants_preferred_seat  wants_in_flight_meals  flight_duration  \\\n",
       "0                     0                      0             5.52   \n",
       "1                     0                      0             5.52   \n",
       "2                     1                      0             5.52   \n",
       "3                     0                      1             5.52   \n",
       "4                     0                      1             5.52   \n",
       "\n",
       "   booking_complete  \n",
       "0                 0  \n",
       "1                 0  \n",
       "2                 0  \n",
       "3                 0  \n",
       "4                 0  "
      ]
     },
     "execution_count": 3,
     "metadata": {},
     "output_type": "execute_result"
    }
   ],
   "source": [
    "# import the data\n",
    "df = pd.read_csv('../data/customer_booking.csv', encoding='ISO-8859-1')\n",
    "df.head()"
   ]
  },
  {
   "cell_type": "code",
   "execution_count": 4,
   "metadata": {},
   "outputs": [
    {
     "name": "stdout",
     "output_type": "stream",
     "text": [
      "<class 'pandas.core.frame.DataFrame'>\n",
      "RangeIndex: 50000 entries, 0 to 49999\n",
      "Data columns (total 14 columns):\n",
      " #   Column                 Non-Null Count  Dtype  \n",
      "---  ------                 --------------  -----  \n",
      " 0   num_passengers         50000 non-null  int64  \n",
      " 1   sales_channel          50000 non-null  object \n",
      " 2   trip_type              50000 non-null  object \n",
      " 3   purchase_lead          50000 non-null  int64  \n",
      " 4   length_of_stay         50000 non-null  int64  \n",
      " 5   flight_hour            50000 non-null  int64  \n",
      " 6   flight_day             50000 non-null  object \n",
      " 7   route                  50000 non-null  object \n",
      " 8   booking_origin         50000 non-null  object \n",
      " 9   wants_extra_baggage    50000 non-null  int64  \n",
      " 10  wants_preferred_seat   50000 non-null  int64  \n",
      " 11  wants_in_flight_meals  50000 non-null  int64  \n",
      " 12  flight_duration        50000 non-null  float64\n",
      " 13  booking_complete       50000 non-null  int64  \n",
      "dtypes: float64(1), int64(8), object(5)\n",
      "memory usage: 5.3+ MB\n"
     ]
    }
   ],
   "source": [
    "df.info()"
   ]
  },
  {
   "cell_type": "code",
   "execution_count": 5,
   "metadata": {},
   "outputs": [
    {
     "data": {
      "text/plain": [
       "<Axes: xlabel='booking_complete'>"
      ]
     },
     "execution_count": 5,
     "metadata": {},
     "output_type": "execute_result"
    },
    {
     "data": {
      "image/png": "[encoded data removed]",
      "text/plain": [
       "<Figure size 640x480 with 1 Axes>"
      ]
     },
     "metadata": {},
     "output_type": "display_data"
    }
   ],
   "source": [
    "import matplotlib.pyplot as plt\n",
    "df['booking_complete'].value_counts().plot(kind='bar')"
   ]
  },
  {
   "cell_type": "code",
   "execution_count": 6,
   "metadata": {},
   "outputs": [
    {
     "data": {
      "text/plain": [
       "booking_complete\n",
       "0    0.85044\n",
       "1    0.14956\n",
       "Name: proportion, dtype: float64"
      ]
     },
     "execution_count": 6,
     "metadata": {},
     "output_type": "execute_result"
    }
   ],
   "source": [
    "df['booking_complete'].value_counts(normalize=True)"
   ]
  },
  {
   "cell_type": "code",
   "execution_count": 7,
   "metadata": {},
   "outputs": [
    {
     "data": {
      "text/plain": [
       "trip_type\n",
       "RoundTrip     0.98994\n",
       "OneWay        0.00774\n",
       "CircleTrip    0.00232\n",
       "Name: proportion, dtype: float64"
      ]
     },
     "execution_count": 7,
     "metadata": {},
     "output_type": "execute_result"
    }
   ],
   "source": [
    "df['trip_type'].value_counts(normalize=True)"
   ]
  },
  {
   "cell_type": "code",
   "execution_count": 8,
   "metadata": {},
   "outputs": [
    {
     "data": {
      "text/plain": [
       "booking_origin\n",
       "Australia               0.35744\n",
       "Malaysia                0.14348\n",
       "South Korea             0.09118\n",
       "Japan                   0.07770\n",
       "China                   0.06774\n",
       "                         ...   \n",
       "Ghana                   0.00002\n",
       "Gibraltar               0.00002\n",
       "Guatemala               0.00002\n",
       "Algeria                 0.00002\n",
       "Svalbard & Jan Mayen    0.00002\n",
       "Name: proportion, Length: 104, dtype: float64"
      ]
     },
     "execution_count": 8,
     "metadata": {},
     "output_type": "execute_result"
    }
   ],
   "source": [
    "df['booking_origin'].value_counts(normalize=True)"
   ]
  },
  {
   "cell_type": "code",
   "execution_count": 9,
   "metadata": {},
   "outputs": [
    {
     "data": {
      "text/plain": [
       "9"
      ]
     },
     "execution_count": 9,
     "metadata": {},
     "output_type": "execute_result"
    }
   ],
   "source": [
    "len(df['num_passengers'].unique())"
   ]
  },
  {
   "cell_type": "markdown",
   "metadata": {},
   "source": [
    "#### Quick Notes on First Look"
   ]
  },
  {
   "cell_type": "markdown",
   "metadata": {},
   "source": [
    "+ Classification task - predict booking - already encoded for us\n",
    "+ imbalanced dataset - booking = 1 is minority (callibrate or stratify/resample?)\n",
    "+ wants_extra_baggage already encoded\n",
    "+ wants_preferred_seat already encoded\n",
    "+ wants_inflight_meals already encoded\n",
    "+ trip_type has to be encoded (or dropped due to cardinality)\n",
    "+ can most likely drop booking_origin if Australia isnt telling, if so, encode Australia or not Australia\n",
    "+ plot num_passengers vs booking\n",
    "+ plot flight duration color coded with booking"
   ]
  },
  {
   "cell_type": "code",
   "execution_count": 10,
   "metadata": {},
   "outputs": [
    {
     "data": {
      "text/html": [
       "<div>\n",
       "<style scoped>\n",
       "    .dataframe tbody tr th:only-of-type {\n",
       "        vertical-align: middle;\n",
       "    }\n",
       "\n",
       "    .dataframe tbody tr th {\n",
       "        vertical-align: top;\n",
       "    }\n",
       "\n",
       "    .dataframe thead th {\n",
       "        text-align: right;\n",
       "    }\n",
       "</style>\n",
       "<table border=\"1\" class=\"dataframe\">\n",
       "  <thead>\n",
       "    <tr style=\"text-align: right;\">\n",
       "      <th></th>\n",
       "      <th>num_passengers</th>\n",
       "      <th>purchase_lead</th>\n",
       "      <th>length_of_stay</th>\n",
       "      <th>flight_hour</th>\n",
       "      <th>wants_extra_baggage</th>\n",
       "      <th>wants_preferred_seat</th>\n",
       "      <th>wants_in_flight_meals</th>\n",
       "      <th>flight_duration</th>\n",
       "      <th>booking_complete</th>\n",
       "    </tr>\n",
       "  </thead>\n",
       "  <tbody>\n",
       "    <tr>\n",
       "      <th>count</th>\n",
       "      <td>50000.000000</td>\n",
       "      <td>50000.000000</td>\n",
       "      <td>50000.00000</td>\n",
       "      <td>50000.00000</td>\n",
       "      <td>50000.000000</td>\n",
       "      <td>50000.000000</td>\n",
       "      <td>50000.000000</td>\n",
       "      <td>50000.000000</td>\n",
       "      <td>50000.000000</td>\n",
       "    </tr>\n",
       "    <tr>\n",
       "      <th>mean</th>\n",
       "      <td>1.591240</td>\n",
       "      <td>84.940480</td>\n",
       "      <td>23.04456</td>\n",
       "      <td>9.06634</td>\n",
       "      <td>0.668780</td>\n",
       "      <td>0.296960</td>\n",
       "      <td>0.427140</td>\n",
       "      <td>7.277561</td>\n",
       "      <td>0.149560</td>\n",
       "    </tr>\n",
       "    <tr>\n",
       "      <th>std</th>\n",
       "      <td>1.020165</td>\n",
       "      <td>90.451378</td>\n",
       "      <td>33.88767</td>\n",
       "      <td>5.41266</td>\n",
       "      <td>0.470657</td>\n",
       "      <td>0.456923</td>\n",
       "      <td>0.494668</td>\n",
       "      <td>1.496863</td>\n",
       "      <td>0.356643</td>\n",
       "    </tr>\n",
       "    <tr>\n",
       "      <th>min</th>\n",
       "      <td>1.000000</td>\n",
       "      <td>0.000000</td>\n",
       "      <td>0.00000</td>\n",
       "      <td>0.00000</td>\n",
       "      <td>0.000000</td>\n",
       "      <td>0.000000</td>\n",
       "      <td>0.000000</td>\n",
       "      <td>4.670000</td>\n",
       "      <td>0.000000</td>\n",
       "    </tr>\n",
       "    <tr>\n",
       "      <th>25%</th>\n",
       "      <td>1.000000</td>\n",
       "      <td>21.000000</td>\n",
       "      <td>5.00000</td>\n",
       "      <td>5.00000</td>\n",
       "      <td>0.000000</td>\n",
       "      <td>0.000000</td>\n",
       "      <td>0.000000</td>\n",
       "      <td>5.620000</td>\n",
       "      <td>0.000000</td>\n",
       "    </tr>\n",
       "    <tr>\n",
       "      <th>50%</th>\n",
       "      <td>1.000000</td>\n",
       "      <td>51.000000</td>\n",
       "      <td>17.00000</td>\n",
       "      <td>9.00000</td>\n",
       "      <td>1.000000</td>\n",
       "      <td>0.000000</td>\n",
       "      <td>0.000000</td>\n",
       "      <td>7.570000</td>\n",
       "      <td>0.000000</td>\n",
       "    </tr>\n",
       "    <tr>\n",
       "      <th>75%</th>\n",
       "      <td>2.000000</td>\n",
       "      <td>115.000000</td>\n",
       "      <td>28.00000</td>\n",
       "      <td>13.00000</td>\n",
       "      <td>1.000000</td>\n",
       "      <td>1.000000</td>\n",
       "      <td>1.000000</td>\n",
       "      <td>8.830000</td>\n",
       "      <td>0.000000</td>\n",
       "    </tr>\n",
       "    <tr>\n",
       "      <th>max</th>\n",
       "      <td>9.000000</td>\n",
       "      <td>867.000000</td>\n",
       "      <td>778.00000</td>\n",
       "      <td>23.00000</td>\n",
       "      <td>1.000000</td>\n",
       "      <td>1.000000</td>\n",
       "      <td>1.000000</td>\n",
       "      <td>9.500000</td>\n",
       "      <td>1.000000</td>\n",
       "    </tr>\n",
       "  </tbody>\n",
       "</table>\n",
       "</div>"
      ],
      "text/plain": [
       "       num_passengers  purchase_lead  length_of_stay  flight_hour  \\\n",
       "count    50000.000000   50000.000000     50000.00000  50000.00000   \n",
       "mean         1.591240      84.940480        23.04456      9.06634   \n",
       "std          1.020165      90.451378        33.88767      5.41266   \n",
       "min          1.000000       0.000000         0.00000      0.00000   \n",
       "25%          1.000000      21.000000         5.00000      5.00000   \n",
       "50%          1.000000      51.000000        17.00000      9.00000   \n",
       "75%          2.000000     115.000000        28.00000     13.00000   \n",
       "max          9.000000     867.000000       778.00000     23.00000   \n",
       "\n",
       "       wants_extra_baggage  wants_preferred_seat  wants_in_flight_meals  \\\n",
       "count         50000.000000          50000.000000           50000.000000   \n",
       "mean              0.668780              0.296960               0.427140   \n",
       "std               0.470657              0.456923               0.494668   \n",
       "min               0.000000              0.000000               0.000000   \n",
       "25%               0.000000              0.000000               0.000000   \n",
       "50%               1.000000              0.000000               0.000000   \n",
       "75%               1.000000              1.000000               1.000000   \n",
       "max               1.000000              1.000000               1.000000   \n",
       "\n",
       "       flight_duration  booking_complete  \n",
       "count     50000.000000      50000.000000  \n",
       "mean          7.277561          0.149560  \n",
       "std           1.496863          0.356643  \n",
       "min           4.670000          0.000000  \n",
       "25%           5.620000          0.000000  \n",
       "50%           7.570000          0.000000  \n",
       "75%           8.830000          0.000000  \n",
       "max           9.500000          1.000000  "
      ]
     },
     "execution_count": 10,
     "metadata": {},
     "output_type": "execute_result"
    }
   ],
   "source": [
    "# describe\n",
    "df.describe()"
   ]
  },
  {
   "cell_type": "markdown",
   "metadata": {},
   "source": [
    "#### Purchase Lead"
   ]
  },
  {
   "cell_type": "markdown",
   "metadata": {},
   "source": [
    "It seems like a lower purchase lead may indicate a better chance of booking."
   ]
  },
  {
   "cell_type": "code",
   "execution_count": 11,
   "metadata": {},
   "outputs": [
    {
     "data": {
      "application/vnd.plotly.v1+json": {
       "config": {
        "plotlyServerURL": "https://plot.ly"
       },
       "data": [
        {
         "hovertemplate": "booked=0<br>index=%{x}<br>purchase_lead=%{y}<extra></extra>",
         "legendgroup": "0",
         "marker": {
          "color": "#636efa",
          "symbol": "circle"
         },
         "mode": "markers",
         "name": "0",
         "showlegend": true,
         "type": "scattergl",
         "x": {
          "bdata": "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",
          "dtype": "i4"
         },
         "xaxis": "x",
         "y": {
          "bdata": "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",
          "dtype": "i2"
         },
         "yaxis": "y"
        },
        {
         "hovertemplate": "booked=1<br>index=%{x}<br>purchase_lead=%{y}<extra></extra>",
         "legendgroup": "1",
         "marker": {
          "color": "#EF553B",
          "symbol": "circle"
         },
         "mode": "markers",
         "name": "1",
         "showlegend": true,
         "type": "scattergl",
         "x": {
          "bdata": "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",
          "dtype": "i4"
         },
         "xaxis": "x",
         "y": {
          "bdata": "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",
          "dtype": "i2"
         },
         "yaxis": "y"
        }
       ],
       "layout": {
        "legend": {
         "title": {
          "text": "booked"
         },
         "tracegroupgap": 0
        },
        "margin": {
         "t": 60
        },
        "template": {
         "data": {
          "bar": [
           {
            "error_x": {
             "color": "#2a3f5f"
            },
            "error_y": {
             "color": "#2a3f5f"
            },
            "marker": {
             "line": {
              "color": "#E5ECF6",
              "width": 0.5
             },
             "pattern": {
              "fillmode": "overlay",
              "size": 10,
              "solidity": 0.2
             }
            },
            "type": "bar"
           }
          ],
          "barpolar": [
           {
            "marker": {
             "line": {
              "color": "#E5ECF6",
              "width": 0.5
             },
             "pattern": {
              "fillmode": "overlay",
              "size": 10,
              "solidity": 0.2
             }
            },
            "type": "barpolar"
           }
          ],
          "carpet": [
           {
            "aaxis": {
             "endlinecolor": "#2a3f5f",
             "gridcolor": "white",
             "linecolor": "white",
             "minorgridcolor": "white",
             "startlinecolor": "#2a3f5f"
            },
            "baxis": {
             "endlinecolor": "#2a3f5f",
             "gridcolor": "white",
             "linecolor": "white",
             "minorgridcolor": "white",
             "startlinecolor": "#2a3f5f"
            },
            "type": "carpet"
           }
          ],
          "choropleth": [
           {
            "colorbar": {
             "outlinewidth": 0,
             "ticks": ""
            },
            "type": "choropleth"
           }
          ],
          "contour": [
           {
            "colorbar": {
             "outlinewidth": 0,
             "ticks": ""
            },
            "colorscale": [
             [
              0,
              "#0d0887"
             ],
             [
              0.1111111111111111,
              "#46039f"
             ],
             [
              0.2222222222222222,
              "#7201a8"
             ],
             [
              0.3333333333333333,
              "#9c179e"
             ],
             [
              0.4444444444444444,
              "#bd3786"
             ],
             [
              0.5555555555555556,
              "#d8576b"
             ],
             [
              0.6666666666666666,
              "#ed7953"
             ],
             [
              0.7777777777777778,
              "#fb9f3a"
             ],
             [
              0.8888888888888888,
              "#fdca26"
             ],
             [
              1,
              "#f0f921"
             ]
            ],
            "type": "contour"
           }
          ],
          "contourcarpet": [
           {
            "colorbar": {
             "outlinewidth": 0,
             "ticks": ""
            },
            "type": "contourcarpet"
           }
          ],
          "heatmap": [
           {
            "colorbar": {
             "outlinewidth": 0,
             "ticks": ""
            },
            "colorscale": [
             [
              0,
              "#0d0887"
             ],
             [
              0.1111111111111111,
              "#46039f"
             ],
             [
              0.2222222222222222,
              "#7201a8"
             ],
             [
              0.3333333333333333,
              "#9c179e"
             ],
             [
              0.4444444444444444,
              "#bd3786"
             ],
             [
              0.5555555555555556,
              "#d8576b"
             ],
             [
              0.6666666666666666,
              "#ed7953"
             ],
             [
              0.7777777777777778,
              "#fb9f3a"
             ],
             [
              0.8888888888888888,
              "#fdca26"
             ],
             [
              1,
              "#f0f921"
             ]
            ],
            "type": "heatmap"
           }
          ],
          "histogram": [
           {
            "marker": {
             "pattern": {
              "fillmode": "overlay",
              "size": 10,
              "solidity": 0.2
             }
            },
            "type": "histogram"
           }
          ],
          "histogram2d": [
           {
            "colorbar": {
             "outlinewidth": 0,
             "ticks": ""
            },
            "colorscale": [
             [
              0,
              "#0d0887"
             ],
             [
              0.1111111111111111,
              "#46039f"
             ],
             [
              0.2222222222222222,
              "#7201a8"
             ],
             [
              0.3333333333333333,
              "#9c179e"
             ],
             [
              0.4444444444444444,
              "#bd3786"
             ],
             [
              0.5555555555555556,
              "#d8576b"
             ],
             [
              0.6666666666666666,
              "#ed7953"
             ],
             [
              0.7777777777777778,
              "#fb9f3a"
             ],
             [
              0.8888888888888888,
              "#fdca26"
             ],
             [
              1,
              "#f0f921"
             ]
            ],
            "type": "histogram2d"
           }
          ],
          "histogram2dcontour": [
           {
            "colorbar": {
             "outlinewidth": 0,
             "ticks": ""
            },
            "colorscale": [
             [
              0,
              "#0d0887"
             ],
             [
              0.1111111111111111,
              "#46039f"
             ],
             [
              0.2222222222222222,
              "#7201a8"
             ],
             [
              0.3333333333333333,
              "#9c179e"
             ],
             [
              0.4444444444444444,
              "#bd3786"
             ],
             [
              0.5555555555555556,
              "#d8576b"
             ],
             [
              0.6666666666666666,
              "#ed7953"
             ],
             [
              0.7777777777777778,
              "#fb9f3a"
             ],
             [
              0.8888888888888888,
              "#fdca26"
             ],
             [
              1,
              "#f0f921"
             ]
            ],
            "type": "histogram2dcontour"
           }
          ],
          "mesh3d": [
           {
            "colorbar": {
             "outlinewidth": 0,
             "ticks": ""
            },
            "type": "mesh3d"
           }
          ],
          "parcoords": [
           {
            "line": {
             "colorbar": {
              "outlinewidth": 0,
              "ticks": ""
             }
            },
            "type": "parcoords"
           }
          ],
          "pie": [
           {
            "automargin": true,
            "type": "pie"
           }
          ],
          "scatter": [
           {
            "fillpattern": {
             "fillmode": "overlay",
             "size": 10,
             "solidity": 0.2
            },
            "type": "scatter"
           }
          ],
          "scatter3d": [
           {
            "line": {
             "colorbar": {
              "outlinewidth": 0,
              "ticks": ""
             }
            },
            "marker": {
             "colorbar": {
              "outlinewidth": 0,
              "ticks": ""
             }
            },
            "type": "scatter3d"
           }
          ],
          "scattercarpet": [
           {
            "marker": {
             "colorbar": {
              "outlinewidth": 0,
              "ticks": ""
             }
            },
            "type": "scattercarpet"
           }
          ],
          "scattergeo": [
           {
            "marker": {
             "colorbar": {
              "outlinewidth": 0,
              "ticks": ""
             }
            },
            "type": "scattergeo"
           }
          ],
          "scattergl": [
           {
            "marker": {
             "colorbar": {
              "outlinewidth": 0,
              "ticks": ""
             }
            },
            "type": "scattergl"
           }
          ],
          "scattermap": [
           {
            "marker": {
             "colorbar": {
              "outlinewidth": 0,
              "ticks": ""
             }
            },
            "type": "scattermap"
           }
          ],
          "scattermapbox": [
           {
            "marker": {
             "colorbar": {
              "outlinewidth": 0,
              "ticks": ""
             }
            },
            "type": "scattermapbox"
           }
          ],
          "scatterpolar": [
           {
            "marker": {
             "colorbar": {
              "outlinewidth": 0,
              "ticks": ""
             }
            },
            "type": "scatterpolar"
           }
          ],
          "scatterpolargl": [
           {
            "marker": {
             "colorbar": {
              "outlinewidth": 0,
              "ticks": ""
             }
            },
            "type": "scatterpolargl"
           }
          ],
          "scatterternary": [
           {
            "marker": {
             "colorbar": {
              "outlinewidth": 0,
              "ticks": ""
             }
            },
            "type": "scatterternary"
           }
          ],
          "surface": [
           {
            "colorbar": {
             "outlinewidth": 0,
             "ticks": ""
            },
            "colorscale": [
             [
              0,
              "#0d0887"
             ],
             [
              0.1111111111111111,
              "#46039f"
             ],
             [
              0.2222222222222222,
              "#7201a8"
             ],
             [
              0.3333333333333333,
              "#9c179e"
             ],
             [
              0.4444444444444444,
              "#bd3786"
             ],
             [
              0.5555555555555556,
              "#d8576b"
             ],
             [
              0.6666666666666666,
              "#ed7953"
             ],
             [
              0.7777777777777778,
              "#fb9f3a"
             ],
             [
              0.8888888888888888,
              "#fdca26"
             ],
             [
              1,
              "#f0f921"
             ]
            ],
            "type": "surface"
           }
          ],
          "table": [
           {
            "cells": {
             "fill": {
              "color": "#EBF0F8"
             },
             "line": {
              "color": "white"
             }
            },
            "header": {
             "fill": {
              "color": "#C8D4E3"
             },
             "line": {
              "color": "white"
             }
            },
            "type": "table"
           }
          ]
         },
         "layout": {
          "annotationdefaults": {
           "arrowcolor": "#2a3f5f",
           "arrowhead": 0,
           "arrowwidth": 1
          },
          "autotypenumbers": "strict",
          "coloraxis": {
           "colorbar": {
            "outlinewidth": 0,
            "ticks": ""
           }
          },
          "colorscale": {
           "diverging": [
            [
             0,
             "#8e0152"
            ],
            [
             0.1,
             "#c51b7d"
            ],
            [
             0.2,
             "#de77ae"
            ],
            [
             0.3,
             "#f1b6da"
            ],
            [
             0.4,
             "#fde0ef"
            ],
            [
             0.5,
             "#f7f7f7"
            ],
            [
             0.6,
             "#e6f5d0"
            ],
            [
             0.7,
             "#b8e186"
            ],
            [
             0.8,
             "#7fbc41"
            ],
            [
             0.9,
             "#4d9221"
            ],
            [
             1,
             "#276419"
            ]
           ],
           "sequential": [
            [
             0,
             "#0d0887"
            ],
            [
             0.1111111111111111,
             "#46039f"
            ],
            [
             0.2222222222222222,
             "#7201a8"
            ],
            [
             0.3333333333333333,
             "#9c179e"
            ],
            [
             0.4444444444444444,
             "#bd3786"
            ],
            [
             0.5555555555555556,
             "#d8576b"
            ],
            [
             0.6666666666666666,
             "#ed7953"
            ],
            [
             0.7777777777777778,
             "#fb9f3a"
            ],
            [
             0.8888888888888888,
             "#fdca26"
            ],
            [
             1,
             "#f0f921"
            ]
           ],
           "sequentialminus": [
            [
             0,
             "#0d0887"
            ],
            [
             0.1111111111111111,
             "#46039f"
            ],
            [
             0.2222222222222222,
             "#7201a8"
            ],
            [
             0.3333333333333333,
             "#9c179e"
            ],
            [
             0.4444444444444444,
             "#bd3786"
            ],
            [
             0.5555555555555556,
             "#d8576b"
            ],
            [
             0.6666666666666666,
             "#ed7953"
            ],
            [
             0.7777777777777778,
             "#fb9f3a"
            ],
            [
             0.8888888888888888,
             "#fdca26"
            ],
            [
             1,
             "#f0f921"
            ]
           ]
          },
          "colorway": [
           "#636efa",
           "#EF553B",
           "#00cc96",
           "#ab63fa",
           "#FFA15A",
           "#19d3f3",
           "#FF6692",
           "#B6E880",
           "#FF97FF",
           "#FECB52"
          ],
          "font": {
           "color": "#2a3f5f"
          },
          "geo": {
           "bgcolor": "white",
           "lakecolor": "white",
           "landcolor": "#E5ECF6",
           "showlakes": true,
           "showland": true,
           "subunitcolor": "white"
          },
          "hoverlabel": {
           "align": "left"
          },
          "hovermode": "closest",
          "mapbox": {
           "style": "light"
          },
          "paper_bgcolor": "white",
          "plot_bgcolor": "#E5ECF6",
          "polar": {
           "angularaxis": {
            "gridcolor": "white",
            "linecolor": "white",
            "ticks": ""
           },
           "bgcolor": "#E5ECF6",
           "radialaxis": {
            "gridcolor": "white",
            "linecolor": "white",
            "ticks": ""
           }
          },
          "scene": {
           "xaxis": {
            "backgroundcolor": "#E5ECF6",
            "gridcolor": "white",
            "gridwidth": 2,
            "linecolor": "white",
            "showbackground": true,
            "ticks": "",
            "zerolinecolor": "white"
           },
           "yaxis": {
            "backgroundcolor": "#E5ECF6",
            "gridcolor": "white",
            "gridwidth": 2,
            "linecolor": "white",
            "showbackground": true,
            "ticks": "",
            "zerolinecolor": "white"
           },
           "zaxis": {
            "backgroundcolor": "#E5ECF6",
            "gridcolor": "white",
            "gridwidth": 2,
            "linecolor": "white",
            "showbackground": true,
            "ticks": "",
            "zerolinecolor": "white"
           }
          },
          "shapedefaults": {
           "line": {
            "color": "#2a3f5f"
           }
          },
          "ternary": {
           "aaxis": {
            "gridcolor": "white",
            "linecolor": "white",
            "ticks": ""
           },
           "baxis": {
            "gridcolor": "white",
            "linecolor": "white",
            "ticks": ""
           },
           "bgcolor": "#E5ECF6",
           "caxis": {
            "gridcolor": "white",
            "linecolor": "white",
            "ticks": ""
           }
          },
          "title": {
           "x": 0.05
          },
          "xaxis": {
           "automargin": true,
           "gridcolor": "white",
           "linecolor": "white",
           "ticks": "",
           "title": {
            "standoff": 15
           },
           "zerolinecolor": "white",
           "zerolinewidth": 2
          },
          "yaxis": {
           "automargin": true,
           "gridcolor": "white",
           "linecolor": "white",
           "ticks": "",
           "title": {
            "standoff": 15
           },
           "zerolinecolor": "white",
           "zerolinewidth": 2
          }
         }
        },
        "xaxis": {
         "anchor": "y",
         "domain": [
          0,
          1
         ],
         "title": {
          "text": "index"
         }
        },
        "yaxis": {
         "anchor": "x",
         "domain": [
          0,
          1
         ],
         "title": {
          "text": "purchase_lead"
         }
        }
       }
      }
     },
     "metadata": {},
     "output_type": "display_data"
    }
   ],
   "source": [
    "df['booked'] = df['booking_complete'].astype(str)\n",
    "fig = px.scatter(data_frame=df, y = 'purchase_lead',\n",
    "                 color = 'booked',\n",
    "                 labels={'y': 'Binary Variable'})\n",
    "\n",
    "fig.show()"
   ]
  },
  {
   "cell_type": "markdown",
   "metadata": {},
   "source": [
    "The results of the t-test also show that longer lead times indicate a higher chance of not booking with the airline which makes sense."
   ]
  },
  {
   "cell_type": "code",
   "execution_count": 12,
   "metadata": {},
   "outputs": [
    {
     "name": "stdout",
     "output_type": "stream",
     "text": [
      "T-statistic: -4.94969640111078, P-value: 7.457066331761684e-07\n"
     ]
    }
   ],
   "source": [
    "from scipy.stats import ttest_ind\n",
    "\n",
    "# Separate the data into two groups\n",
    "group1 = df[df['booking_complete'] == 1]['purchase_lead']\n",
    "group2 = df[df['booking_complete'] == 0]['purchase_lead']\n",
    "\n",
    "# Perform the t-test\n",
    "t_stat, p_value = ttest_ind(group1, group2)\n",
    "\n",
    "print(f'T-statistic: {t_stat}, P-value: {p_value}')"
   ]
  },
  {
   "cell_type": "markdown",
   "metadata": {},
   "source": [
    "#### Trip Type"
   ]
  },
  {
   "cell_type": "markdown",
   "metadata": {},
   "source": [
    "Since 98% of our data consists of the same trip type we will delete this variable."
   ]
  },
  {
   "cell_type": "code",
   "execution_count": 13,
   "metadata": {},
   "outputs": [],
   "source": [
    "# drop trip type due to high cardinality\n",
    "df.drop(columns='trip_type', axis = 1, inplace=True)"
   ]
  },
  {
   "cell_type": "code",
   "execution_count": 14,
   "metadata": {},
   "outputs": [
    {
     "name": "stdout",
     "output_type": "stream",
     "text": [
      "<class 'pandas.core.frame.DataFrame'>\n",
      "RangeIndex: 50000 entries, 0 to 49999\n",
      "Data columns (total 14 columns):\n",
      " #   Column                 Non-Null Count  Dtype  \n",
      "---  ------                 --------------  -----  \n",
      " 0   num_passengers         50000 non-null  int64  \n",
      " 1   sales_channel          50000 non-null  object \n",
      " 2   purchase_lead          50000 non-null  int64  \n",
      " 3   length_of_stay         50000 non-null  int64  \n",
      " 4   flight_hour            50000 non-null  int64  \n",
      " 5   flight_day             50000 non-null  object \n",
      " 6   route                  50000 non-null  object \n",
      " 7   booking_origin         50000 non-null  object \n",
      " 8   wants_extra_baggage    50000 non-null  int64  \n",
      " 9   wants_preferred_seat   50000 non-null  int64  \n",
      " 10  wants_in_flight_meals  50000 non-null  int64  \n",
      " 11  flight_duration        50000 non-null  float64\n",
      " 12  booking_complete       50000 non-null  int64  \n",
      " 13  booked                 50000 non-null  object \n",
      "dtypes: float64(1), int64(8), object(5)\n",
      "memory usage: 5.3+ MB\n"
     ]
    }
   ],
   "source": [
    "df.info()"
   ]
  },
  {
   "cell_type": "markdown",
   "metadata": {},
   "source": [
    "#### Booking Origin"
   ]
  },
  {
   "cell_type": "markdown",
   "metadata": {},
   "source": [
    "As we saw earlier, 35% of the **booking_origin** came from Australia and the rest were very sparse. When we pinpoint those from Australia we see there is a 95% chance that they will not book. When we exclude these customers, there is only a 79% chance they do not book and the chi2 test tells us that this is a statistically significant difference. For this reason, we can change this variable to a binary predictor where 1 = Australia and 0 = not Australia."
   ]
  },
  {
   "cell_type": "code",
   "execution_count": 15,
   "metadata": {},
   "outputs": [
    {
     "data": {
      "text/html": [
       "<div>\n",
       "<style scoped>\n",
       "    .dataframe tbody tr th:only-of-type {\n",
       "        vertical-align: middle;\n",
       "    }\n",
       "\n",
       "    .dataframe tbody tr th {\n",
       "        vertical-align: top;\n",
       "    }\n",
       "\n",
       "    .dataframe thead th {\n",
       "        text-align: right;\n",
       "    }\n",
       "</style>\n",
       "<table border=\"1\" class=\"dataframe\">\n",
       "  <thead>\n",
       "    <tr style=\"text-align: right;\">\n",
       "      <th></th>\n",
       "      <th>num_passengers</th>\n",
       "      <th>sales_channel</th>\n",
       "      <th>purchase_lead</th>\n",
       "      <th>length_of_stay</th>\n",
       "      <th>flight_hour</th>\n",
       "      <th>flight_day</th>\n",
       "      <th>route</th>\n",
       "      <th>booking_origin</th>\n",
       "      <th>wants_extra_baggage</th>\n",
       "      <th>wants_preferred_seat</th>\n",
       "      <th>wants_in_flight_meals</th>\n",
       "      <th>flight_duration</th>\n",
       "      <th>booking_complete</th>\n",
       "      <th>booked</th>\n",
       "    </tr>\n",
       "  </thead>\n",
       "  <tbody>\n",
       "    <tr>\n",
       "      <th>766</th>\n",
       "      <td>1</td>\n",
       "      <td>Internet</td>\n",
       "      <td>107</td>\n",
       "      <td>23</td>\n",
       "      <td>12</td>\n",
       "      <td>Sun</td>\n",
       "      <td>AKLKUL</td>\n",
       "      <td>Australia</td>\n",
       "      <td>1</td>\n",
       "      <td>0</td>\n",
       "      <td>1</td>\n",
       "      <td>8.83</td>\n",
       "      <td>1</td>\n",
       "      <td>1</td>\n",
       "    </tr>\n",
       "    <tr>\n",
       "      <th>1127</th>\n",
       "      <td>1</td>\n",
       "      <td>Internet</td>\n",
       "      <td>300</td>\n",
       "      <td>63</td>\n",
       "      <td>2</td>\n",
       "      <td>Fri</td>\n",
       "      <td>AKLKUL</td>\n",
       "      <td>Australia</td>\n",
       "      <td>0</td>\n",
       "      <td>0</td>\n",
       "      <td>0</td>\n",
       "      <td>8.83</td>\n",
       "      <td>0</td>\n",
       "      <td>0</td>\n",
       "    </tr>\n",
       "    <tr>\n",
       "      <th>1623</th>\n",
       "      <td>1</td>\n",
       "      <td>Mobile</td>\n",
       "      <td>11</td>\n",
       "      <td>32</td>\n",
       "      <td>12</td>\n",
       "      <td>Fri</td>\n",
       "      <td>AKLKUL</td>\n",
       "      <td>Australia</td>\n",
       "      <td>0</td>\n",
       "      <td>0</td>\n",
       "      <td>0</td>\n",
       "      <td>8.83</td>\n",
       "      <td>0</td>\n",
       "      <td>0</td>\n",
       "    </tr>\n",
       "    <tr>\n",
       "      <th>1791</th>\n",
       "      <td>2</td>\n",
       "      <td>Internet</td>\n",
       "      <td>43</td>\n",
       "      <td>17</td>\n",
       "      <td>12</td>\n",
       "      <td>Tue</td>\n",
       "      <td>AKLKUL</td>\n",
       "      <td>Australia</td>\n",
       "      <td>1</td>\n",
       "      <td>0</td>\n",
       "      <td>1</td>\n",
       "      <td>8.83</td>\n",
       "      <td>0</td>\n",
       "      <td>0</td>\n",
       "    </tr>\n",
       "    <tr>\n",
       "      <th>1821</th>\n",
       "      <td>1</td>\n",
       "      <td>Internet</td>\n",
       "      <td>55</td>\n",
       "      <td>21</td>\n",
       "      <td>21</td>\n",
       "      <td>Mon</td>\n",
       "      <td>AKLKUL</td>\n",
       "      <td>Australia</td>\n",
       "      <td>0</td>\n",
       "      <td>1</td>\n",
       "      <td>1</td>\n",
       "      <td>8.83</td>\n",
       "      <td>0</td>\n",
       "      <td>0</td>\n",
       "    </tr>\n",
       "    <tr>\n",
       "      <th>...</th>\n",
       "      <td>...</td>\n",
       "      <td>...</td>\n",
       "      <td>...</td>\n",
       "      <td>...</td>\n",
       "      <td>...</td>\n",
       "      <td>...</td>\n",
       "      <td>...</td>\n",
       "      <td>...</td>\n",
       "      <td>...</td>\n",
       "      <td>...</td>\n",
       "      <td>...</td>\n",
       "      <td>...</td>\n",
       "      <td>...</td>\n",
       "      <td>...</td>\n",
       "    </tr>\n",
       "    <tr>\n",
       "      <th>49995</th>\n",
       "      <td>2</td>\n",
       "      <td>Internet</td>\n",
       "      <td>27</td>\n",
       "      <td>6</td>\n",
       "      <td>9</td>\n",
       "      <td>Sat</td>\n",
       "      <td>PERPNH</td>\n",
       "      <td>Australia</td>\n",
       "      <td>1</td>\n",
       "      <td>0</td>\n",
       "      <td>1</td>\n",
       "      <td>5.62</td>\n",
       "      <td>0</td>\n",
       "      <td>0</td>\n",
       "    </tr>\n",
       "    <tr>\n",
       "      <th>49996</th>\n",
       "      <td>1</td>\n",
       "      <td>Internet</td>\n",
       "      <td>111</td>\n",
       "      <td>6</td>\n",
       "      <td>4</td>\n",
       "      <td>Sun</td>\n",
       "      <td>PERPNH</td>\n",
       "      <td>Australia</td>\n",
       "      <td>0</td>\n",
       "      <td>0</td>\n",
       "      <td>0</td>\n",
       "      <td>5.62</td>\n",
       "      <td>0</td>\n",
       "      <td>0</td>\n",
       "    </tr>\n",
       "    <tr>\n",
       "      <th>49997</th>\n",
       "      <td>1</td>\n",
       "      <td>Internet</td>\n",
       "      <td>24</td>\n",
       "      <td>6</td>\n",
       "      <td>22</td>\n",
       "      <td>Sat</td>\n",
       "      <td>PERPNH</td>\n",
       "      <td>Australia</td>\n",
       "      <td>0</td>\n",
       "      <td>0</td>\n",
       "      <td>1</td>\n",
       "      <td>5.62</td>\n",
       "      <td>0</td>\n",
       "      <td>0</td>\n",
       "    </tr>\n",
       "    <tr>\n",
       "      <th>49998</th>\n",
       "      <td>1</td>\n",
       "      <td>Internet</td>\n",
       "      <td>15</td>\n",
       "      <td>6</td>\n",
       "      <td>11</td>\n",
       "      <td>Mon</td>\n",
       "      <td>PERPNH</td>\n",
       "      <td>Australia</td>\n",
       "      <td>1</td>\n",
       "      <td>0</td>\n",
       "      <td>1</td>\n",
       "      <td>5.62</td>\n",
       "      <td>0</td>\n",
       "      <td>0</td>\n",
       "    </tr>\n",
       "    <tr>\n",
       "      <th>49999</th>\n",
       "      <td>1</td>\n",
       "      <td>Internet</td>\n",
       "      <td>19</td>\n",
       "      <td>6</td>\n",
       "      <td>10</td>\n",
       "      <td>Thu</td>\n",
       "      <td>PERPNH</td>\n",
       "      <td>Australia</td>\n",
       "      <td>0</td>\n",
       "      <td>1</td>\n",
       "      <td>0</td>\n",
       "      <td>5.62</td>\n",
       "      <td>0</td>\n",
       "      <td>0</td>\n",
       "    </tr>\n",
       "  </tbody>\n",
       "</table>\n",
       "<p>17872 rows × 14 columns</p>\n",
       "</div>"
      ],
      "text/plain": [
       "       num_passengers sales_channel  purchase_lead  length_of_stay  \\\n",
       "766                 1      Internet            107              23   \n",
       "1127                1      Internet            300              63   \n",
       "1623                1        Mobile             11              32   \n",
       "1791                2      Internet             43              17   \n",
       "1821                1      Internet             55              21   \n",
       "...               ...           ...            ...             ...   \n",
       "49995               2      Internet             27               6   \n",
       "49996               1      Internet            111               6   \n",
       "49997               1      Internet             24               6   \n",
       "49998               1      Internet             15               6   \n",
       "49999               1      Internet             19               6   \n",
       "\n",
       "       flight_hour flight_day   route booking_origin  wants_extra_baggage  \\\n",
       "766             12        Sun  AKLKUL      Australia                    1   \n",
       "1127             2        Fri  AKLKUL      Australia                    0   \n",
       "1623            12        Fri  AKLKUL      Australia                    0   \n",
       "1791            12        Tue  AKLKUL      Australia                    1   \n",
       "1821            21        Mon  AKLKUL      Australia                    0   \n",
       "...            ...        ...     ...            ...                  ...   \n",
       "49995            9        Sat  PERPNH      Australia                    1   \n",
       "49996            4        Sun  PERPNH      Australia                    0   \n",
       "49997           22        Sat  PERPNH      Australia                    0   \n",
       "49998           11        Mon  PERPNH      Australia                    1   \n",
       "49999           10        Thu  PERPNH      Australia                    0   \n",
       "\n",
       "       wants_preferred_seat  wants_in_flight_meals  flight_duration  \\\n",
       "766                       0                      1             8.83   \n",
       "1127                      0                      0             8.83   \n",
       "1623                      0                      0             8.83   \n",
       "1791                      0                      1             8.83   \n",
       "1821                      1                      1             8.83   \n",
       "...                     ...                    ...              ...   \n",
       "49995                     0                      1             5.62   \n",
       "49996                     0                      0             5.62   \n",
       "49997                     0                      1             5.62   \n",
       "49998                     0                      1             5.62   \n",
       "49999                     1                      0             5.62   \n",
       "\n",
       "       booking_complete booked  \n",
       "766                   1      1  \n",
       "1127                  0      0  \n",
       "1623                  0      0  \n",
       "1791                  0      0  \n",
       "1821                  0      0  \n",
       "...                 ...    ...  \n",
       "49995                 0      0  \n",
       "49996                 0      0  \n",
       "49997                 0      0  \n",
       "49998                 0      0  \n",
       "49999                 0      0  \n",
       "\n",
       "[17872 rows x 14 columns]"
      ]
     },
     "execution_count": 15,
     "metadata": {},
     "output_type": "execute_result"
    }
   ],
   "source": [
    "# lets deal with australia\n",
    "australia = df.loc[df['booking_origin'] == 'Australia']\n",
    "australia\n"
   ]
  },
  {
   "cell_type": "code",
   "execution_count": 16,
   "metadata": {},
   "outputs": [
    {
     "data": {
      "text/plain": [
       "booking_complete\n",
       "0    0.949642\n",
       "1    0.050358\n",
       "Name: proportion, dtype: float64"
      ]
     },
     "execution_count": 16,
     "metadata": {},
     "output_type": "execute_result"
    }
   ],
   "source": [
    "australia['booking_complete'].value_counts(normalize=True)"
   ]
  },
  {
   "cell_type": "code",
   "execution_count": 17,
   "metadata": {},
   "outputs": [
    {
     "data": {
      "text/html": [
       "<div>\n",
       "<style scoped>\n",
       "    .dataframe tbody tr th:only-of-type {\n",
       "        vertical-align: middle;\n",
       "    }\n",
       "\n",
       "    .dataframe tbody tr th {\n",
       "        vertical-align: top;\n",
       "    }\n",
       "\n",
       "    .dataframe thead th {\n",
       "        text-align: right;\n",
       "    }\n",
       "</style>\n",
       "<table border=\"1\" class=\"dataframe\">\n",
       "  <thead>\n",
       "    <tr style=\"text-align: right;\">\n",
       "      <th></th>\n",
       "      <th>num_passengers</th>\n",
       "      <th>sales_channel</th>\n",
       "      <th>purchase_lead</th>\n",
       "      <th>length_of_stay</th>\n",
       "      <th>flight_hour</th>\n",
       "      <th>flight_day</th>\n",
       "      <th>route</th>\n",
       "      <th>booking_origin</th>\n",
       "      <th>wants_extra_baggage</th>\n",
       "      <th>wants_preferred_seat</th>\n",
       "      <th>wants_in_flight_meals</th>\n",
       "      <th>flight_duration</th>\n",
       "      <th>booking_complete</th>\n",
       "      <th>booked</th>\n",
       "    </tr>\n",
       "  </thead>\n",
       "  <tbody>\n",
       "    <tr>\n",
       "      <th>0</th>\n",
       "      <td>2</td>\n",
       "      <td>Internet</td>\n",
       "      <td>262</td>\n",
       "      <td>19</td>\n",
       "      <td>7</td>\n",
       "      <td>Sat</td>\n",
       "      <td>AKLDEL</td>\n",
       "      <td>New Zealand</td>\n",
       "      <td>1</td>\n",
       "      <td>0</td>\n",
       "      <td>0</td>\n",
       "      <td>5.52</td>\n",
       "      <td>0</td>\n",
       "      <td>0</td>\n",
       "    </tr>\n",
       "    <tr>\n",
       "      <th>1</th>\n",
       "      <td>1</td>\n",
       "      <td>Internet</td>\n",
       "      <td>112</td>\n",
       "      <td>20</td>\n",
       "      <td>3</td>\n",
       "      <td>Sat</td>\n",
       "      <td>AKLDEL</td>\n",
       "      <td>New Zealand</td>\n",
       "      <td>0</td>\n",
       "      <td>0</td>\n",
       "      <td>0</td>\n",
       "      <td>5.52</td>\n",
       "      <td>0</td>\n",
       "      <td>0</td>\n",
       "    </tr>\n",
       "    <tr>\n",
       "      <th>2</th>\n",
       "      <td>2</td>\n",
       "      <td>Internet</td>\n",
       "      <td>243</td>\n",
       "      <td>22</td>\n",
       "      <td>17</td>\n",
       "      <td>Wed</td>\n",
       "      <td>AKLDEL</td>\n",
       "      <td>India</td>\n",
       "      <td>1</td>\n",
       "      <td>1</td>\n",
       "      <td>0</td>\n",
       "      <td>5.52</td>\n",
       "      <td>0</td>\n",
       "      <td>0</td>\n",
       "    </tr>\n",
       "    <tr>\n",
       "      <th>3</th>\n",
       "      <td>1</td>\n",
       "      <td>Internet</td>\n",
       "      <td>96</td>\n",
       "      <td>31</td>\n",
       "      <td>4</td>\n",
       "      <td>Sat</td>\n",
       "      <td>AKLDEL</td>\n",
       "      <td>New Zealand</td>\n",
       "      <td>0</td>\n",
       "      <td>0</td>\n",
       "      <td>1</td>\n",
       "      <td>5.52</td>\n",
       "      <td>0</td>\n",
       "      <td>0</td>\n",
       "    </tr>\n",
       "    <tr>\n",
       "      <th>4</th>\n",
       "      <td>2</td>\n",
       "      <td>Internet</td>\n",
       "      <td>68</td>\n",
       "      <td>22</td>\n",
       "      <td>15</td>\n",
       "      <td>Wed</td>\n",
       "      <td>AKLDEL</td>\n",
       "      <td>India</td>\n",
       "      <td>1</td>\n",
       "      <td>0</td>\n",
       "      <td>1</td>\n",
       "      <td>5.52</td>\n",
       "      <td>0</td>\n",
       "      <td>0</td>\n",
       "    </tr>\n",
       "    <tr>\n",
       "      <th>...</th>\n",
       "      <td>...</td>\n",
       "      <td>...</td>\n",
       "      <td>...</td>\n",
       "      <td>...</td>\n",
       "      <td>...</td>\n",
       "      <td>...</td>\n",
       "      <td>...</td>\n",
       "      <td>...</td>\n",
       "      <td>...</td>\n",
       "      <td>...</td>\n",
       "      <td>...</td>\n",
       "      <td>...</td>\n",
       "      <td>...</td>\n",
       "      <td>...</td>\n",
       "    </tr>\n",
       "    <tr>\n",
       "      <th>49979</th>\n",
       "      <td>2</td>\n",
       "      <td>Internet</td>\n",
       "      <td>41</td>\n",
       "      <td>6</td>\n",
       "      <td>4</td>\n",
       "      <td>Tue</td>\n",
       "      <td>PENTPE</td>\n",
       "      <td>Malaysia</td>\n",
       "      <td>1</td>\n",
       "      <td>0</td>\n",
       "      <td>0</td>\n",
       "      <td>4.67</td>\n",
       "      <td>0</td>\n",
       "      <td>0</td>\n",
       "    </tr>\n",
       "    <tr>\n",
       "      <th>49980</th>\n",
       "      <td>4</td>\n",
       "      <td>Internet</td>\n",
       "      <td>242</td>\n",
       "      <td>6</td>\n",
       "      <td>9</td>\n",
       "      <td>Tue</td>\n",
       "      <td>PENXIY</td>\n",
       "      <td>Malaysia</td>\n",
       "      <td>1</td>\n",
       "      <td>0</td>\n",
       "      <td>1</td>\n",
       "      <td>5.00</td>\n",
       "      <td>1</td>\n",
       "      <td>1</td>\n",
       "    </tr>\n",
       "    <tr>\n",
       "      <th>49981</th>\n",
       "      <td>1</td>\n",
       "      <td>Internet</td>\n",
       "      <td>317</td>\n",
       "      <td>6</td>\n",
       "      <td>1</td>\n",
       "      <td>Thu</td>\n",
       "      <td>PENXIY</td>\n",
       "      <td>Malaysia</td>\n",
       "      <td>1</td>\n",
       "      <td>0</td>\n",
       "      <td>1</td>\n",
       "      <td>5.00</td>\n",
       "      <td>0</td>\n",
       "      <td>0</td>\n",
       "    </tr>\n",
       "    <tr>\n",
       "      <th>49982</th>\n",
       "      <td>2</td>\n",
       "      <td>Internet</td>\n",
       "      <td>177</td>\n",
       "      <td>6</td>\n",
       "      <td>8</td>\n",
       "      <td>Thu</td>\n",
       "      <td>PENXIY</td>\n",
       "      <td>Malaysia</td>\n",
       "      <td>1</td>\n",
       "      <td>1</td>\n",
       "      <td>0</td>\n",
       "      <td>5.00</td>\n",
       "      <td>0</td>\n",
       "      <td>0</td>\n",
       "    </tr>\n",
       "    <tr>\n",
       "      <th>49989</th>\n",
       "      <td>1</td>\n",
       "      <td>Internet</td>\n",
       "      <td>33</td>\n",
       "      <td>6</td>\n",
       "      <td>2</td>\n",
       "      <td>Sat</td>\n",
       "      <td>PERPNH</td>\n",
       "      <td>Cambodia</td>\n",
       "      <td>1</td>\n",
       "      <td>0</td>\n",
       "      <td>0</td>\n",
       "      <td>5.62</td>\n",
       "      <td>0</td>\n",
       "      <td>0</td>\n",
       "    </tr>\n",
       "  </tbody>\n",
       "</table>\n",
       "<p>32128 rows × 14 columns</p>\n",
       "</div>"
      ],
      "text/plain": [
       "       num_passengers sales_channel  purchase_lead  length_of_stay  \\\n",
       "0                   2      Internet            262              19   \n",
       "1                   1      Internet            112              20   \n",
       "2                   2      Internet            243              22   \n",
       "3                   1      Internet             96              31   \n",
       "4                   2      Internet             68              22   \n",
       "...               ...           ...            ...             ...   \n",
       "49979               2      Internet             41               6   \n",
       "49980               4      Internet            242               6   \n",
       "49981               1      Internet            317               6   \n",
       "49982               2      Internet            177               6   \n",
       "49989               1      Internet             33               6   \n",
       "\n",
       "       flight_hour flight_day   route booking_origin  wants_extra_baggage  \\\n",
       "0                7        Sat  AKLDEL    New Zealand                    1   \n",
       "1                3        Sat  AKLDEL    New Zealand                    0   \n",
       "2               17        Wed  AKLDEL          India                    1   \n",
       "3                4        Sat  AKLDEL    New Zealand                    0   \n",
       "4               15        Wed  AKLDEL          India                    1   \n",
       "...            ...        ...     ...            ...                  ...   \n",
       "49979            4        Tue  PENTPE       Malaysia                    1   \n",
       "49980            9        Tue  PENXIY       Malaysia                    1   \n",
       "49981            1        Thu  PENXIY       Malaysia                    1   \n",
       "49982            8        Thu  PENXIY       Malaysia                    1   \n",
       "49989            2        Sat  PERPNH       Cambodia                    1   \n",
       "\n",
       "       wants_preferred_seat  wants_in_flight_meals  flight_duration  \\\n",
       "0                         0                      0             5.52   \n",
       "1                         0                      0             5.52   \n",
       "2                         1                      0             5.52   \n",
       "3                         0                      1             5.52   \n",
       "4                         0                      1             5.52   \n",
       "...                     ...                    ...              ...   \n",
       "49979                     0                      0             4.67   \n",
       "49980                     0                      1             5.00   \n",
       "49981                     0                      1             5.00   \n",
       "49982                     1                      0             5.00   \n",
       "49989                     0                      0             5.62   \n",
       "\n",
       "       booking_complete booked  \n",
       "0                     0      0  \n",
       "1                     0      0  \n",
       "2                     0      0  \n",
       "3                     0      0  \n",
       "4                     0      0  \n",
       "...                 ...    ...  \n",
       "49979                 0      0  \n",
       "49980                 1      1  \n",
       "49981                 0      0  \n",
       "49982                 0      0  \n",
       "49989                 0      0  \n",
       "\n",
       "[32128 rows x 14 columns]"
      ]
     },
     "execution_count": 17,
     "metadata": {},
     "output_type": "execute_result"
    }
   ],
   "source": [
    "# not australia\n",
    "not_australia = df[df['booking_origin'] != 'Australia']\n",
    "not_australia"
   ]
  },
  {
   "cell_type": "code",
   "execution_count": 18,
   "metadata": {},
   "outputs": [
    {
     "data": {
      "text/plain": [
       "booking_complete\n",
       "0    0.795256\n",
       "1    0.204744\n",
       "Name: proportion, dtype: float64"
      ]
     },
     "execution_count": 18,
     "metadata": {},
     "output_type": "execute_result"
    }
   ],
   "source": [
    "not_australia['booking_complete'].value_counts(normalize=True)"
   ]
  },
  {
   "cell_type": "code",
   "execution_count": 19,
   "metadata": {},
   "outputs": [
    {
     "name": "stdout",
     "output_type": "stream",
     "text": [
      "Chi2 Statistic: 2150.7766049440315\n",
      "P-value: 0.0\n"
     ]
    }
   ],
   "source": [
    "import scipy.stats as stats\n",
    "\n",
    "# Add a binary category for Australia\n",
    "df['is_australia'] = (df['booking_origin'] == 'Australia').astype(int)\n",
    "\n",
    "# Create a contingency table\n",
    "contingency_table = pd.crosstab(df['is_australia'], df['booking_complete'])\n",
    "\n",
    "# Perform chi-square test\n",
    "chi2, p, dof, expected = stats.chi2_contingency(contingency_table)\n",
    "\n",
    "print(f\"Chi2 Statistic: {chi2}\")\n",
    "print(f\"P-value: {p}\")"
   ]
  },
  {
   "cell_type": "code",
   "execution_count": 20,
   "metadata": {},
   "outputs": [
    {
     "data": {
      "text/html": [
       "<div>\n",
       "<style scoped>\n",
       "    .dataframe tbody tr th:only-of-type {\n",
       "        vertical-align: middle;\n",
       "    }\n",
       "\n",
       "    .dataframe tbody tr th {\n",
       "        vertical-align: top;\n",
       "    }\n",
       "\n",
       "    .dataframe thead th {\n",
       "        text-align: right;\n",
       "    }\n",
       "</style>\n",
       "<table border=\"1\" class=\"dataframe\">\n",
       "  <thead>\n",
       "    <tr style=\"text-align: right;\">\n",
       "      <th>booking_complete</th>\n",
       "      <th>0</th>\n",
       "      <th>1</th>\n",
       "    </tr>\n",
       "    <tr>\n",
       "      <th>is_australia</th>\n",
       "      <th></th>\n",
       "      <th></th>\n",
       "    </tr>\n",
       "  </thead>\n",
       "  <tbody>\n",
       "    <tr>\n",
       "      <th>0</th>\n",
       "      <td>25550</td>\n",
       "      <td>6578</td>\n",
       "    </tr>\n",
       "    <tr>\n",
       "      <th>1</th>\n",
       "      <td>16972</td>\n",
       "      <td>900</td>\n",
       "    </tr>\n",
       "  </tbody>\n",
       "</table>\n",
       "</div>"
      ],
      "text/plain": [
       "booking_complete      0     1\n",
       "is_australia                 \n",
       "0                 25550  6578\n",
       "1                 16972   900"
      ]
     },
     "execution_count": 20,
     "metadata": {},
     "output_type": "execute_result"
    }
   ],
   "source": [
    "contingency_table"
   ]
  },
  {
   "cell_type": "code",
   "execution_count": 21,
   "metadata": {},
   "outputs": [
    {
     "data": {
      "text/html": [
       "<div>\n",
       "<style scoped>\n",
       "    .dataframe tbody tr th:only-of-type {\n",
       "        vertical-align: middle;\n",
       "    }\n",
       "\n",
       "    .dataframe tbody tr th {\n",
       "        vertical-align: top;\n",
       "    }\n",
       "\n",
       "    .dataframe thead th {\n",
       "        text-align: right;\n",
       "    }\n",
       "</style>\n",
       "<table border=\"1\" class=\"dataframe\">\n",
       "  <thead>\n",
       "    <tr style=\"text-align: right;\">\n",
       "      <th></th>\n",
       "      <th>num_passengers</th>\n",
       "      <th>sales_channel</th>\n",
       "      <th>purchase_lead</th>\n",
       "      <th>length_of_stay</th>\n",
       "      <th>flight_hour</th>\n",
       "      <th>flight_day</th>\n",
       "      <th>route</th>\n",
       "      <th>booking_origin</th>\n",
       "      <th>wants_extra_baggage</th>\n",
       "      <th>wants_preferred_seat</th>\n",
       "      <th>wants_in_flight_meals</th>\n",
       "      <th>flight_duration</th>\n",
       "      <th>booking_complete</th>\n",
       "      <th>booked</th>\n",
       "      <th>is_australia</th>\n",
       "    </tr>\n",
       "  </thead>\n",
       "  <tbody>\n",
       "    <tr>\n",
       "      <th>0</th>\n",
       "      <td>2</td>\n",
       "      <td>Internet</td>\n",
       "      <td>262</td>\n",
       "      <td>19</td>\n",
       "      <td>7</td>\n",
       "      <td>Sat</td>\n",
       "      <td>AKLDEL</td>\n",
       "      <td>New Zealand</td>\n",
       "      <td>1</td>\n",
       "      <td>0</td>\n",
       "      <td>0</td>\n",
       "      <td>5.52</td>\n",
       "      <td>0</td>\n",
       "      <td>0</td>\n",
       "      <td>0</td>\n",
       "    </tr>\n",
       "    <tr>\n",
       "      <th>1</th>\n",
       "      <td>1</td>\n",
       "      <td>Internet</td>\n",
       "      <td>112</td>\n",
       "      <td>20</td>\n",
       "      <td>3</td>\n",
       "      <td>Sat</td>\n",
       "      <td>AKLDEL</td>\n",
       "      <td>New Zealand</td>\n",
       "      <td>0</td>\n",
       "      <td>0</td>\n",
       "      <td>0</td>\n",
       "      <td>5.52</td>\n",
       "      <td>0</td>\n",
       "      <td>0</td>\n",
       "      <td>0</td>\n",
       "    </tr>\n",
       "    <tr>\n",
       "      <th>2</th>\n",
       "      <td>2</td>\n",
       "      <td>Internet</td>\n",
       "      <td>243</td>\n",
       "      <td>22</td>\n",
       "      <td>17</td>\n",
       "      <td>Wed</td>\n",
       "      <td>AKLDEL</td>\n",
       "      <td>India</td>\n",
       "      <td>1</td>\n",
       "      <td>1</td>\n",
       "      <td>0</td>\n",
       "      <td>5.52</td>\n",
       "      <td>0</td>\n",
       "      <td>0</td>\n",
       "      <td>0</td>\n",
       "    </tr>\n",
       "    <tr>\n",
       "      <th>3</th>\n",
       "      <td>1</td>\n",
       "      <td>Internet</td>\n",
       "      <td>96</td>\n",
       "      <td>31</td>\n",
       "      <td>4</td>\n",
       "      <td>Sat</td>\n",
       "      <td>AKLDEL</td>\n",
       "      <td>New Zealand</td>\n",
       "      <td>0</td>\n",
       "      <td>0</td>\n",
       "      <td>1</td>\n",
       "      <td>5.52</td>\n",
       "      <td>0</td>\n",
       "      <td>0</td>\n",
       "      <td>0</td>\n",
       "    </tr>\n",
       "    <tr>\n",
       "      <th>4</th>\n",
       "      <td>2</td>\n",
       "      <td>Internet</td>\n",
       "      <td>68</td>\n",
       "      <td>22</td>\n",
       "      <td>15</td>\n",
       "      <td>Wed</td>\n",
       "      <td>AKLDEL</td>\n",
       "      <td>India</td>\n",
       "      <td>1</td>\n",
       "      <td>0</td>\n",
       "      <td>1</td>\n",
       "      <td>5.52</td>\n",
       "      <td>0</td>\n",
       "      <td>0</td>\n",
       "      <td>0</td>\n",
       "    </tr>\n",
       "  </tbody>\n",
       "</table>\n",
       "</div>"
      ],
      "text/plain": [
       "   num_passengers sales_channel  purchase_lead  length_of_stay  flight_hour  \\\n",
       "0               2      Internet            262              19            7   \n",
       "1               1      Internet            112              20            3   \n",
       "2               2      Internet            243              22           17   \n",
       "3               1      Internet             96              31            4   \n",
       "4               2      Internet             68              22           15   \n",
       "\n",
       "  flight_day   route booking_origin  wants_extra_baggage  \\\n",
       "0        Sat  AKLDEL    New Zealand                    1   \n",
       "1        Sat  AKLDEL    New Zealand                    0   \n",
       "2        Wed  AKLDEL          India                    1   \n",
       "3        Sat  AKLDEL    New Zealand                    0   \n",
       "4        Wed  AKLDEL          India                    1   \n",
       "\n",
       "   wants_preferred_seat  wants_in_flight_meals  flight_duration  \\\n",
       "0                     0                      0             5.52   \n",
       "1                     0                      0             5.52   \n",
       "2                     1                      0             5.52   \n",
       "3                     0                      1             5.52   \n",
       "4                     0                      1             5.52   \n",
       "\n",
       "   booking_complete booked  is_australia  \n",
       "0                 0      0             0  \n",
       "1                 0      0             0  \n",
       "2                 0      0             0  \n",
       "3                 0      0             0  \n",
       "4                 0      0             0  "
      ]
     },
     "execution_count": 21,
     "metadata": {},
     "output_type": "execute_result"
    }
   ],
   "source": [
    "df.head()"
   ]
  },
  {
   "cell_type": "code",
   "execution_count": 22,
   "metadata": {},
   "outputs": [],
   "source": [
    "df.drop(columns = 'booking_origin', axis = 1, inplace = True)"
   ]
  },
  {
   "cell_type": "code",
   "execution_count": 23,
   "metadata": {},
   "outputs": [
    {
     "data": {
      "text/html": [
       "<div>\n",
       "<style scoped>\n",
       "    .dataframe tbody tr th:only-of-type {\n",
       "        vertical-align: middle;\n",
       "    }\n",
       "\n",
       "    .dataframe tbody tr th {\n",
       "        vertical-align: top;\n",
       "    }\n",
       "\n",
       "    .dataframe thead th {\n",
       "        text-align: right;\n",
       "    }\n",
       "</style>\n",
       "<table border=\"1\" class=\"dataframe\">\n",
       "  <thead>\n",
       "    <tr style=\"text-align: right;\">\n",
       "      <th>booking_complete</th>\n",
       "      <th>0</th>\n",
       "      <th>1</th>\n",
       "    </tr>\n",
       "    <tr>\n",
       "      <th>wants_extra_baggage</th>\n",
       "      <th></th>\n",
       "      <th></th>\n",
       "    </tr>\n",
       "  </thead>\n",
       "  <tbody>\n",
       "    <tr>\n",
       "      <th>0</th>\n",
       "      <td>14656</td>\n",
       "      <td>1905</td>\n",
       "    </tr>\n",
       "    <tr>\n",
       "      <th>1</th>\n",
       "      <td>27866</td>\n",
       "      <td>5573</td>\n",
       "    </tr>\n",
       "  </tbody>\n",
       "</table>\n",
       "</div>"
      ],
      "text/plain": [
       "booking_complete         0     1\n",
       "wants_extra_baggage             \n",
       "0                    14656  1905\n",
       "1                    27866  5573"
      ]
     },
     "execution_count": 23,
     "metadata": {},
     "output_type": "execute_result"
    }
   ],
   "source": [
    "# contingency table\n",
    "def contingency(df, x, y):\n",
    "    '''create a contingency table for the given columns'''\n",
    "    cross_tab = pd.crosstab(df[x], df[y])\n",
    "    return cross_tab\n",
    "\n",
    "contingency(df, 'wants_extra_baggage', 'booking_complete')"
   ]
  },
  {
   "cell_type": "code",
   "execution_count": 24,
   "metadata": {},
   "outputs": [
    {
     "data": {
      "text/html": [
       "<div>\n",
       "<style scoped>\n",
       "    .dataframe tbody tr th:only-of-type {\n",
       "        vertical-align: middle;\n",
       "    }\n",
       "\n",
       "    .dataframe tbody tr th {\n",
       "        vertical-align: top;\n",
       "    }\n",
       "\n",
       "    .dataframe thead th {\n",
       "        text-align: right;\n",
       "    }\n",
       "</style>\n",
       "<table border=\"1\" class=\"dataframe\">\n",
       "  <thead>\n",
       "    <tr style=\"text-align: right;\">\n",
       "      <th>booking_complete</th>\n",
       "      <th>0</th>\n",
       "      <th>1</th>\n",
       "    </tr>\n",
       "    <tr>\n",
       "      <th>wants_preferred_seat</th>\n",
       "      <th></th>\n",
       "      <th></th>\n",
       "    </tr>\n",
       "  </thead>\n",
       "  <tbody>\n",
       "    <tr>\n",
       "      <th>0</th>\n",
       "      <td>30303</td>\n",
       "      <td>4849</td>\n",
       "    </tr>\n",
       "    <tr>\n",
       "      <th>1</th>\n",
       "      <td>12219</td>\n",
       "      <td>2629</td>\n",
       "    </tr>\n",
       "  </tbody>\n",
       "</table>\n",
       "</div>"
      ],
      "text/plain": [
       "booking_complete          0     1\n",
       "wants_preferred_seat             \n",
       "0                     30303  4849\n",
       "1                     12219  2629"
      ]
     },
     "execution_count": 24,
     "metadata": {},
     "output_type": "execute_result"
    }
   ],
   "source": [
    "# contingency table\n",
    "def contingency(df, x, y):\n",
    "    '''create a contingency table for the given columns'''\n",
    "    cross_tab = pd.crosstab(df[x], df[y])\n",
    "    return cross_tab\n",
    "\n",
    "contingency(df, 'wants_preferred_seat', 'booking_complete')"
   ]
  },
  {
   "cell_type": "code",
   "execution_count": 27,
   "metadata": {},
   "outputs": [
    {
     "name": "stdout",
     "output_type": "stream",
     "text": [
      "Chi2 Statistic: 125.27310853832702\n",
      "P-value: 4.4350760727496255e-29\n"
     ]
    }
   ],
   "source": [
    "# Create the contingency table\n",
    "cross_tab = contingency(df, 'wants_preferred_seat', 'booking_complete')\n",
    "\n",
    "# Perform the chi-square test\n",
    "chi2, p, dof, expected = stats.chi2_contingency(cross_tab)\n",
    "\n",
    "print(f\"Chi2 Statistic: {chi2}\")\n",
    "print(f\"P-value: {p}\")"
   ]
  },
  {
   "cell_type": "code",
   "execution_count": 25,
   "metadata": {},
   "outputs": [
    {
     "data": {
      "application/vnd.plotly.v1+json": {
       "config": {
        "plotlyServerURL": "https://plot.ly"
       },
       "data": [
        {
         "alignmentgroup": "True",
         "hovertemplate": "Wants Preferred Seat=0<br>Booking Complete=%{x}<br>Count=%{y}<extra></extra>",
         "legendgroup": "0",
         "marker": {
          "color": "#636efa",
          "pattern": {
           "shape": ""
          }
         },
         "name": "0",
         "offsetgroup": "0",
         "orientation": "v",
         "showlegend": true,
         "textposition": "auto",
         "type": "bar",
         "x": {
          "bdata": "AAE=",
          "dtype": "i1"
         },
         "xaxis": "x",
         "y": {
          "bdata": "X3bxEg==",
          "dtype": "i2"
         },
         "yaxis": "y"
        },
        {
         "alignmentgroup": "True",
         "hovertemplate": "Wants Preferred Seat=1<br>Booking Complete=%{x}<br>Count=%{y}<extra></extra>",
         "legendgroup": "1",
         "marker": {
          "color": "#EF553B",
          "pattern": {
           "shape": ""
          }
         },
         "name": "1",
         "offsetgroup": "1",
         "orientation": "v",
         "showlegend": true,
         "textposition": "auto",
         "type": "bar",
         "x": {
          "bdata": "AAE=",
          "dtype": "i1"
         },
         "xaxis": "x",
         "y": {
          "bdata": "uy9FCg==",
          "dtype": "i2"
         },
         "yaxis": "y"
        }
       ],
       "layout": {
        "barmode": "group",
        "legend": {
         "title": {
          "text": "Wants Preferred Seat"
         },
         "tracegroupgap": 0
        },
        "template": {
         "data": {
          "bar": [
           {
            "error_x": {
             "color": "#2a3f5f"
            },
            "error_y": {
             "color": "#2a3f5f"
            },
            "marker": {
             "line": {
              "color": "#E5ECF6",
              "width": 0.5
             },
             "pattern": {
              "fillmode": "overlay",
              "size": 10,
              "solidity": 0.2
             }
            },
            "type": "bar"
           }
          ],
          "barpolar": [
           {
            "marker": {
             "line": {
              "color": "#E5ECF6",
              "width": 0.5
             },
             "pattern": {
              "fillmode": "overlay",
              "size": 10,
              "solidity": 0.2
             }
            },
            "type": "barpolar"
           }
          ],
          "carpet": [
           {
            "aaxis": {
             "endlinecolor": "#2a3f5f",
             "gridcolor": "white",
             "linecolor": "white",
             "minorgridcolor": "white",
             "startlinecolor": "#2a3f5f"
            },
            "baxis": {
             "endlinecolor": "#2a3f5f",
             "gridcolor": "white",
             "linecolor": "white",
             "minorgridcolor": "white",
             "startlinecolor": "#2a3f5f"
            },
            "type": "carpet"
           }
          ],
          "choropleth": [
           {
            "colorbar": {
             "outlinewidth": 0,
             "ticks": ""
            },
            "type": "choropleth"
           }
          ],
          "contour": [
           {
            "colorbar": {
             "outlinewidth": 0,
             "ticks": ""
            },
            "colorscale": [
             [
              0,
              "#0d0887"
             ],
             [
              0.1111111111111111,
              "#46039f"
             ],
             [
              0.2222222222222222,
              "#7201a8"
             ],
             [
              0.3333333333333333,
              "#9c179e"
             ],
             [
              0.4444444444444444,
              "#bd3786"
             ],
             [
              0.5555555555555556,
              "#d8576b"
             ],
             [
              0.6666666666666666,
              "#ed7953"
             ],
             [
              0.7777777777777778,
              "#fb9f3a"
             ],
             [
              0.8888888888888888,
              "#fdca26"
             ],
             [
              1,
              "#f0f921"
             ]
            ],
            "type": "contour"
           }
          ],
          "contourcarpet": [
           {
            "colorbar": {
             "outlinewidth": 0,
             "ticks": ""
            },
            "type": "contourcarpet"
           }
          ],
          "heatmap": [
           {
            "colorbar": {
             "outlinewidth": 0,
             "ticks": ""
            },
            "colorscale": [
             [
              0,
              "#0d0887"
             ],
             [
              0.1111111111111111,
              "#46039f"
             ],
             [
              0.2222222222222222,
              "#7201a8"
             ],
             [
              0.3333333333333333,
              "#9c179e"
             ],
             [
              0.4444444444444444,
              "#bd3786"
             ],
             [
              0.5555555555555556,
              "#d8576b"
             ],
             [
              0.6666666666666666,
              "#ed7953"
             ],
             [
              0.7777777777777778,
              "#fb9f3a"
             ],
             [
              0.8888888888888888,
              "#fdca26"
             ],
             [
              1,
              "#f0f921"
             ]
            ],
            "type": "heatmap"
           }
          ],
          "histogram": [
           {
            "marker": {
             "pattern": {
              "fillmode": "overlay",
              "size": 10,
              "solidity": 0.2
             }
            },
            "type": "histogram"
           }
          ],
          "histogram2d": [
           {
            "colorbar": {
             "outlinewidth": 0,
             "ticks": ""
            },
            "colorscale": [
             [
              0,
              "#0d0887"
             ],
             [
              0.1111111111111111,
              "#46039f"
             ],
             [
              0.2222222222222222,
              "#7201a8"
             ],
             [
              0.3333333333333333,
              "#9c179e"
             ],
             [
              0.4444444444444444,
              "#bd3786"
             ],
             [
              0.5555555555555556,
              "#d8576b"
             ],
             [
              0.6666666666666666,
              "#ed7953"
             ],
             [
              0.7777777777777778,
              "#fb9f3a"
             ],
             [
              0.8888888888888888,
              "#fdca26"
             ],
             [
              1,
              "#f0f921"
             ]
            ],
            "type": "histogram2d"
           }
          ],
          "histogram2dcontour": [
           {
            "colorbar": {
             "outlinewidth": 0,
             "ticks": ""
            },
            "colorscale": [
             [
              0,
              "#0d0887"
             ],
             [
              0.1111111111111111,
              "#46039f"
             ],
             [
              0.2222222222222222,
              "#7201a8"
             ],
             [
              0.3333333333333333,
              "#9c179e"
             ],
             [
              0.4444444444444444,
              "#bd3786"
             ],
             [
              0.5555555555555556,
              "#d8576b"
             ],
             [
              0.6666666666666666,
              "#ed7953"
             ],
             [
              0.7777777777777778,
              "#fb9f3a"
             ],
             [
              0.8888888888888888,
              "#fdca26"
             ],
             [
              1,
              "#f0f921"
             ]
            ],
            "type": "histogram2dcontour"
           }
          ],
          "mesh3d": [
           {
            "colorbar": {
             "outlinewidth": 0,
             "ticks": ""
            },
            "type": "mesh3d"
           }
          ],
          "parcoords": [
           {
            "line": {
             "colorbar": {
              "outlinewidth": 0,
              "ticks": ""
             }
            },
            "type": "parcoords"
           }
          ],
          "pie": [
           {
            "automargin": true,
            "type": "pie"
           }
          ],
          "scatter": [
           {
            "fillpattern": {
             "fillmode": "overlay",
             "size": 10,
             "solidity": 0.2
            },
            "type": "scatter"
           }
          ],
          "scatter3d": [
           {
            "line": {
             "colorbar": {
              "outlinewidth": 0,
              "ticks": ""
             }
            },
            "marker": {
             "colorbar": {
              "outlinewidth": 0,
              "ticks": ""
             }
            },
            "type": "scatter3d"
           }
          ],
          "scattercarpet": [
           {
            "marker": {
             "colorbar": {
              "outlinewidth": 0,
              "ticks": ""
             }
            },
            "type": "scattercarpet"
           }
          ],
          "scattergeo": [
           {
            "marker": {
             "colorbar": {
              "outlinewidth": 0,
              "ticks": ""
             }
            },
            "type": "scattergeo"
           }
          ],
          "scattergl": [
           {
            "marker": {
             "colorbar": {
              "outlinewidth": 0,
              "ticks": ""
             }
            },
            "type": "scattergl"
           }
          ],
          "scattermap": [
           {
            "marker": {
             "colorbar": {
              "outlinewidth": 0,
              "ticks": ""
             }
            },
            "type": "scattermap"
           }
          ],
          "scattermapbox": [
           {
            "marker": {
             "colorbar": {
              "outlinewidth": 0,
              "ticks": ""
             }
            },
            "type": "scattermapbox"
           }
          ],
          "scatterpolar": [
           {
            "marker": {
             "colorbar": {
              "outlinewidth": 0,
              "ticks": ""
             }
            },
            "type": "scatterpolar"
           }
          ],
          "scatterpolargl": [
           {
            "marker": {
             "colorbar": {
              "outlinewidth": 0,
              "ticks": ""
             }
            },
            "type": "scatterpolargl"
           }
          ],
          "scatterternary": [
           {
            "marker": {
             "colorbar": {
              "outlinewidth": 0,
              "ticks": ""
             }
            },
            "type": "scatterternary"
           }
          ],
          "surface": [
           {
            "colorbar": {
             "outlinewidth": 0,
             "ticks": ""
            },
            "colorscale": [
             [
              0,
              "#0d0887"
             ],
             [
              0.1111111111111111,
              "#46039f"
             ],
             [
              0.2222222222222222,
              "#7201a8"
             ],
             [
              0.3333333333333333,
              "#9c179e"
             ],
             [
              0.4444444444444444,
              "#bd3786"
             ],
             [
              0.5555555555555556,
              "#d8576b"
             ],
             [
              0.6666666666666666,
              "#ed7953"
             ],
             [
              0.7777777777777778,
              "#fb9f3a"
             ],
             [
              0.8888888888888888,
              "#fdca26"
             ],
             [
              1,
              "#f0f921"
             ]
            ],
            "type": "surface"
           }
          ],
          "table": [
           {
            "cells": {
             "fill": {
              "color": "#EBF0F8"
             },
             "line": {
              "color": "white"
             }
            },
            "header": {
             "fill": {
              "color": "#C8D4E3"
             },
             "line": {
              "color": "white"
             }
            },
            "type": "table"
           }
          ]
         },
         "layout": {
          "annotationdefaults": {
           "arrowcolor": "#2a3f5f",
           "arrowhead": 0,
           "arrowwidth": 1
          },
          "autotypenumbers": "strict",
          "coloraxis": {
           "colorbar": {
            "outlinewidth": 0,
            "ticks": ""
           }
          },
          "colorscale": {
           "diverging": [
            [
             0,
             "#8e0152"
            ],
            [
             0.1,
             "#c51b7d"
            ],
            [
             0.2,
             "#de77ae"
            ],
            [
             0.3,
             "#f1b6da"
            ],
            [
             0.4,
             "#fde0ef"
            ],
            [
             0.5,
             "#f7f7f7"
            ],
            [
             0.6,
             "#e6f5d0"
            ],
            [
             0.7,
             "#b8e186"
            ],
            [
             0.8,
             "#7fbc41"
            ],
            [
             0.9,
             "#4d9221"
            ],
            [
             1,
             "#276419"
            ]
           ],
           "sequential": [
            [
             0,
             "#0d0887"
            ],
            [
             0.1111111111111111,
             "#46039f"
            ],
            [
             0.2222222222222222,
             "#7201a8"
            ],
            [
             0.3333333333333333,
             "#9c179e"
            ],
            [
             0.4444444444444444,
             "#bd3786"
            ],
            [
             0.5555555555555556,
             "#d8576b"
            ],
            [
             0.6666666666666666,
             "#ed7953"
            ],
            [
             0.7777777777777778,
             "#fb9f3a"
            ],
            [
             0.8888888888888888,
             "#fdca26"
            ],
            [
             1,
             "#f0f921"
            ]
           ],
           "sequentialminus": [
            [
             0,
             "#0d0887"
            ],
            [
             0.1111111111111111,
             "#46039f"
            ],
            [
             0.2222222222222222,
             "#7201a8"
            ],
            [
             0.3333333333333333,
             "#9c179e"
            ],
            [
             0.4444444444444444,
             "#bd3786"
            ],
            [
             0.5555555555555556,
             "#d8576b"
            ],
            [
             0.6666666666666666,
             "#ed7953"
            ],
            [
             0.7777777777777778,
             "#fb9f3a"
            ],
            [
             0.8888888888888888,
             "#fdca26"
            ],
            [
             1,
             "#f0f921"
            ]
           ]
          },
          "colorway": [
           "#636efa",
           "#EF553B",
           "#00cc96",
           "#ab63fa",
           "#FFA15A",
           "#19d3f3",
           "#FF6692",
           "#B6E880",
           "#FF97FF",
           "#FECB52"
          ],
          "font": {
           "color": "#2a3f5f"
          },
          "geo": {
           "bgcolor": "white",
           "lakecolor": "white",
           "landcolor": "#E5ECF6",
           "showlakes": true,
           "showland": true,
           "subunitcolor": "white"
          },
          "hoverlabel": {
           "align": "left"
          },
          "hovermode": "closest",
          "mapbox": {
           "style": "light"
          },
          "paper_bgcolor": "white",
          "plot_bgcolor": "#E5ECF6",
          "polar": {
           "angularaxis": {
            "gridcolor": "white",
            "linecolor": "white",
            "ticks": ""
           },
           "bgcolor": "#E5ECF6",
           "radialaxis": {
            "gridcolor": "white",
            "linecolor": "white",
            "ticks": ""
           }
          },
          "scene": {
           "xaxis": {
            "backgroundcolor": "#E5ECF6",
            "gridcolor": "white",
            "gridwidth": 2,
            "linecolor": "white",
            "showbackground": true,
            "ticks": "",
            "zerolinecolor": "white"
           },
           "yaxis": {
            "backgroundcolor": "#E5ECF6",
            "gridcolor": "white",
            "gridwidth": 2,
            "linecolor": "white",
            "showbackground": true,
            "ticks": "",
            "zerolinecolor": "white"
           },
           "zaxis": {
            "backgroundcolor": "#E5ECF6",
            "gridcolor": "white",
            "gridwidth": 2,
            "linecolor": "white",
            "showbackground": true,
            "ticks": "",
            "zerolinecolor": "white"
           }
          },
          "shapedefaults": {
           "line": {
            "color": "#2a3f5f"
           }
          },
          "ternary": {
           "aaxis": {
            "gridcolor": "white",
            "linecolor": "white",
            "ticks": ""
           },
           "baxis": {
            "gridcolor": "white",
            "linecolor": "white",
            "ticks": ""
           },
           "bgcolor": "#E5ECF6",
           "caxis": {
            "gridcolor": "white",
            "linecolor": "white",
            "ticks": ""
           }
          },
          "title": {
           "x": 0.05
          },
          "xaxis": {
           "automargin": true,
           "gridcolor": "white",
           "linecolor": "white",
           "ticks": "",
           "title": {
            "standoff": 15
           },
           "zerolinecolor": "white",
           "zerolinewidth": 2
          },
          "yaxis": {
           "automargin": true,
           "gridcolor": "white",
           "linecolor": "white",
           "ticks": "",
           "title": {
            "standoff": 15
           },
           "zerolinecolor": "white",
           "zerolinewidth": 2
          }
         }
        },
        "title": {
         "text": "Booking Complete vs Wants Preferred Seat"
        },
        "xaxis": {
         "anchor": "y",
         "domain": [
          0,
          1
         ],
         "title": {
          "text": "Booking Complete"
         }
        },
        "yaxis": {
         "anchor": "x",
         "domain": [
          0,
          1
         ],
         "title": {
          "text": "Count"
         }
        }
       }
      }
     },
     "metadata": {},
     "output_type": "display_data"
    }
   ],
   "source": [
    "# Create a contingency table\n",
    "contingency_table = pd.crosstab(df['booking_complete'], df['wants_preferred_seat'])\n",
    "\n",
    "# Melt the contingency table\n",
    "melted_table = contingency_table.reset_index().melt(id_vars='booking_complete', var_name='wants_preferred_seat', value_name='count')\n",
    "\n",
    "# Generate the bar chart\n",
    "fig = px.bar(melted_table, x='booking_complete', y='count', color='wants_preferred_seat',\n",
    "             title='Booking Complete vs Wants Preferred Seat',\n",
    "             labels={'booking_complete': 'Booking Complete', 'count': 'Count', 'wants_preferred_seat': 'Wants Preferred Seat'},\n",
    "             barmode='group')\n",
    "\n",
    "fig.show()"
   ]
  },
  {
   "cell_type": "markdown",
   "metadata": {},
   "source": [
    "The contingency table and following chi2 values tell us that there is a significant difference in the association between wanting extra baggage and not wanting extra baggage."
   ]
  },
  {
   "cell_type": "code",
   "execution_count": 26,
   "metadata": {},
   "outputs": [
    {
     "name": "stdout",
     "output_type": "stream",
     "text": [
      "Chi2 Statistic: 231.73706388226566\n",
      "P-value: 2.491861960070551e-52\n"
     ]
    }
   ],
   "source": [
    "# Create the contingency table\n",
    "cross_tab = contingency(df, 'wants_extra_baggage', 'booking_complete')\n",
    "\n",
    "# Perform the chi-square test\n",
    "chi2, p, dof, expected = stats.chi2_contingency(cross_tab)\n",
    "\n",
    "print(f\"Chi2 Statistic: {chi2}\")\n",
    "print(f\"P-value: {p}\")"
   ]
  },
  {
   "cell_type": "code",
   "execution_count": null,
   "metadata": {},
   "outputs": [],
   "source": []
  },
  {
   "cell_type": "code",
   "execution_count": null,
   "metadata": {},
   "outputs": [],
   "source": []
  }
 ],
 "metadata": {
  "kernelspec": {
   "display_name": ".venv",
   "language": "python",
   "name": "python3"
  },
  "language_info": {
   "codemirror_mode": {
    "name": "ipython",
    "version": 3
   },
   "file_extension": ".py",
   "mimetype": "text/x-python",
   "name": "python",
   "nbconvert_exporter": "python",
   "pygments_lexer": "ipython3",
   "version": "3.10.9"
  }
 },
 "nbformat": 4,
 "nbformat_minor": 2
}
